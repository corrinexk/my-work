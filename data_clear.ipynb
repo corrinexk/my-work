{
 "cells": [
  {
   "cell_type": "code",
   "execution_count": 26,
   "id": "5dd5a01a-bc4e-43f5-89bf-c2f30cc8649d",
   "metadata": {},
   "outputs": [],
   "source": [
    "import pandas as pd\n",
    "import os\n",
    "import numpy as np\n",
    "pd.set_option('display.max_rows', None)"
   ]
  },
  {
   "cell_type": "code",
   "execution_count": 2,
   "id": "60c97173-c2cb-482a-a0a8-837495c10cf2",
   "metadata": {},
   "outputs": [],
   "source": [
    "# 获取文件夹中所有的 CSV 文件\n",
    "folder_path = '/root/CNN-for-Trading/DayDatas单品种2010-2023'\n",
    "csv_files = [f for f in os.listdir(folder_path) if f.endswith('.csv')]\n",
    "\n",
    "# 读取所有 CSV 文件并存储在一个列表中，同时添加文件名作为新列\n",
    "dfs = []\n",
    "for file in csv_files:\n",
    "    df = pd.read_csv(os.path.join(folder_path, file))\n",
    "    df['FileName'] = os.path.splitext(file)[0]  # 添加文件名作为新列\n",
    "    dfs.append(df)\n",
    "\n",
    "# 使用 concat 函数将所有 DataFrame 合并\n",
    "df = pd.concat(dfs, axis=0, ignore_index=True)"
   ]
  },
  {
   "cell_type": "code",
   "execution_count": 12,
   "id": "8177244a-1933-44ff-9201-e0dd4481cde9",
   "metadata": {},
   "outputs": [],
   "source": [
    "np.set_printoptions(threshold=np.inf)"
   ]
  },
  {
   "cell_type": "code",
   "execution_count": 3,
   "id": "da33e5ff-35cb-4ea8-84c3-34f04d4f7dab",
   "metadata": {},
   "outputs": [],
   "source": [
    "df['NewColumn'] = df['FileName'].str[:2]"
   ]
  },
  {
   "cell_type": "code",
   "execution_count": 28,
   "id": "15b0eb92-43bc-4e15-a9de-90babd13f1f1",
   "metadata": {},
   "outputs": [],
   "source": [
    "#df = df.drop('NewColumn_mon', axis=1)"
   ]
  },
  {
   "cell_type": "code",
   "execution_count": 4,
   "id": "c98e65ae-e946-405b-b88d-fa4d38d53896",
   "metadata": {},
   "outputs": [],
   "source": [
    "df['NewColumn_mon'] = df['FileName'].apply(lambda x: x.split('.')[0][-2:])"
   ]
  },
  {
   "cell_type": "code",
   "execution_count": 5,
   "id": "53dd9060-5daf-47b0-8a36-c83669994930",
   "metadata": {},
   "outputs": [],
   "source": [
    "df['NewColumn'] = df['NewColumn'].astype(str)\n",
    "df['NewColumn_mon'] = df['NewColumn_mon'].astype(str)"
   ]
  },
  {
   "cell_type": "code",
   "execution_count": 7,
   "id": "7d4ca86c-b349-47be-a371-8b2998b40382",
   "metadata": {},
   "outputs": [
    {
     "data": {
      "text/html": [
       "<div>\n",
       "<style scoped>\n",
       "    .dataframe tbody tr th:only-of-type {\n",
       "        vertical-align: middle;\n",
       "    }\n",
       "\n",
       "    .dataframe tbody tr th {\n",
       "        vertical-align: top;\n",
       "    }\n",
       "\n",
       "    .dataframe thead th {\n",
       "        text-align: right;\n",
       "    }\n",
       "</style>\n",
       "<table border=\"1\" class=\"dataframe\">\n",
       "  <thead>\n",
       "    <tr style=\"text-align: right;\">\n",
       "      <th></th>\n",
       "      <th>Unnamed: 0</th>\n",
       "      <th>OPEN</th>\n",
       "      <th>HIGH</th>\n",
       "      <th>LOW</th>\n",
       "      <th>CLOSE</th>\n",
       "      <th>SETTLE</th>\n",
       "      <th>VOLUME</th>\n",
       "      <th>OI</th>\n",
       "      <th>FileName</th>\n",
       "      <th>NewColumn</th>\n",
       "      <th>NewColumn_mon</th>\n",
       "    </tr>\n",
       "  </thead>\n",
       "  <tbody>\n",
       "    <tr>\n",
       "      <th>0</th>\n",
       "      <td>20200102</td>\n",
       "      <td>3266.0</td>\n",
       "      <td>3355.0</td>\n",
       "      <td>3266.0</td>\n",
       "      <td>3346.0</td>\n",
       "      <td>3326.0</td>\n",
       "      <td>2238.0</td>\n",
       "      <td>1447.0</td>\n",
       "      <td>A2001.DCE</td>\n",
       "      <td>A2</td>\n",
       "      <td>01</td>\n",
       "    </tr>\n",
       "    <tr>\n",
       "      <th>1</th>\n",
       "      <td>20200103</td>\n",
       "      <td>3375.0</td>\n",
       "      <td>3380.0</td>\n",
       "      <td>3375.0</td>\n",
       "      <td>3380.0</td>\n",
       "      <td>3379.0</td>\n",
       "      <td>66.0</td>\n",
       "      <td>361.0</td>\n",
       "      <td>A2001.DCE</td>\n",
       "      <td>A2</td>\n",
       "      <td>01</td>\n",
       "    </tr>\n",
       "    <tr>\n",
       "      <th>2</th>\n",
       "      <td>20200106</td>\n",
       "      <td>3390.0</td>\n",
       "      <td>3390.0</td>\n",
       "      <td>3371.0</td>\n",
       "      <td>3375.0</td>\n",
       "      <td>3379.0</td>\n",
       "      <td>461.0</td>\n",
       "      <td>420.0</td>\n",
       "      <td>A2001.DCE</td>\n",
       "      <td>A2</td>\n",
       "      <td>01</td>\n",
       "    </tr>\n",
       "    <tr>\n",
       "      <th>3</th>\n",
       "      <td>20200107</td>\n",
       "      <td>3395.0</td>\n",
       "      <td>3405.0</td>\n",
       "      <td>3380.0</td>\n",
       "      <td>3399.0</td>\n",
       "      <td>3398.0</td>\n",
       "      <td>283.0</td>\n",
       "      <td>224.0</td>\n",
       "      <td>A2001.DCE</td>\n",
       "      <td>A2</td>\n",
       "      <td>01</td>\n",
       "    </tr>\n",
       "    <tr>\n",
       "      <th>4</th>\n",
       "      <td>20200108</td>\n",
       "      <td>3380.0</td>\n",
       "      <td>3399.0</td>\n",
       "      <td>3380.0</td>\n",
       "      <td>3399.0</td>\n",
       "      <td>3392.0</td>\n",
       "      <td>116.0</td>\n",
       "      <td>124.0</td>\n",
       "      <td>A2001.DCE</td>\n",
       "      <td>A2</td>\n",
       "      <td>01</td>\n",
       "    </tr>\n",
       "  </tbody>\n",
       "</table>\n",
       "</div>"
      ],
      "text/plain": [
       "   Unnamed: 0    OPEN    HIGH     LOW   CLOSE  SETTLE  VOLUME      OI  \\\n",
       "0    20200102  3266.0  3355.0  3266.0  3346.0  3326.0  2238.0  1447.0   \n",
       "1    20200103  3375.0  3380.0  3375.0  3380.0  3379.0    66.0   361.0   \n",
       "2    20200106  3390.0  3390.0  3371.0  3375.0  3379.0   461.0   420.0   \n",
       "3    20200107  3395.0  3405.0  3380.0  3399.0  3398.0   283.0   224.0   \n",
       "4    20200108  3380.0  3399.0  3380.0  3399.0  3392.0   116.0   124.0   \n",
       "\n",
       "    FileName NewColumn NewColumn_mon  \n",
       "0  A2001.DCE        A2            01  \n",
       "1  A2001.DCE        A2            01  \n",
       "2  A2001.DCE        A2            01  \n",
       "3  A2001.DCE        A2            01  \n",
       "4  A2001.DCE        A2            01  "
      ]
     },
     "execution_count": 7,
     "metadata": {},
     "output_type": "execute_result"
    }
   ],
   "source": [
    "df.head()"
   ]
  },
  {
   "cell_type": "code",
   "execution_count": 8,
   "id": "d93c6c45-16e5-4e09-8150-c90cd7d99576",
   "metadata": {},
   "outputs": [
    {
     "data": {
      "text/plain": [
       "str"
      ]
     },
     "execution_count": 8,
     "metadata": {},
     "output_type": "execute_result"
    }
   ],
   "source": [
    "type(df.loc[0,'NewColumn'])"
   ]
  },
  {
   "cell_type": "code",
   "execution_count": 9,
   "id": "ce3c0340-2a9c-45bc-902a-efef0adea729",
   "metadata": {},
   "outputs": [
    {
     "data": {
      "text/plain": [
       "array(['A2', 'AG', 'AL', 'AO', 'AP', 'AU', 'BC', 'BR', 'BU', 'C2', 'CF',\n",
       "       'CJ', 'CS', 'CU', 'CY', 'EB', 'EC', 'EG', 'FG', 'FU', 'HC', 'I2',\n",
       "       'IC', 'IF', 'IH', 'IM', 'J2', 'JD', 'JM', 'L2', 'LC', 'LH', 'LU',\n",
       "       'M2', 'MA', 'NI', 'NR', 'OI', 'P2', 'PB', 'PF', 'PG', 'PK', 'PP',\n",
       "       'RB', 'RM', 'RR', 'RU', 'SA', 'SC', 'SF', 'SI', 'SM', 'SN', 'SP',\n",
       "       'SR', 'SS', 'T2', 'TA', 'TF', 'UR', 'V2', 'WR', 'Y2', 'ZN'],\n",
       "      dtype=object)"
      ]
     },
     "execution_count": 9,
     "metadata": {},
     "output_type": "execute_result"
    }
   ],
   "source": [
    "df['NewColumn'].unique()"
   ]
  },
  {
   "cell_type": "markdown",
   "id": "e46c12c6-d9f7-4494-9c90-24bd708b08e6",
   "metadata": {},
   "source": [
    "## 转字典"
   ]
  },
  {
   "cell_type": "code",
   "execution_count": 10,
   "id": "fe15b09e-3a37-4932-8de2-b51586df31c4",
   "metadata": {},
   "outputs": [],
   "source": [
    "file_path = '/root/CNN-for-Trading/主力.txt'\n",
    "refer_df = pd.read_csv(file_path, delimiter=':')"
   ]
  },
  {
   "cell_type": "code",
   "execution_count": 11,
   "id": "b99e3707-d736-409f-bbd3-c8b3f8a5b8d8",
   "metadata": {},
   "outputs": [
    {
     "data": {
      "text/html": [
       "<div>\n",
       "<style scoped>\n",
       "    .dataframe tbody tr th:only-of-type {\n",
       "        vertical-align: middle;\n",
       "    }\n",
       "\n",
       "    .dataframe tbody tr th {\n",
       "        vertical-align: top;\n",
       "    }\n",
       "\n",
       "    .dataframe thead th {\n",
       "        text-align: right;\n",
       "    }\n",
       "</style>\n",
       "<table border=\"1\" class=\"dataframe\">\n",
       "  <thead>\n",
       "    <tr style=\"text-align: right;\">\n",
       "      <th></th>\n",
       "      <th>code</th>\n",
       "      <th>main_date</th>\n",
       "    </tr>\n",
       "  </thead>\n",
       "  <tbody>\n",
       "    <tr>\n",
       "      <th>0</th>\n",
       "      <td>A2</td>\n",
       "      <td>01,05,09</td>\n",
       "    </tr>\n",
       "    <tr>\n",
       "      <th>1</th>\n",
       "      <td>AG</td>\n",
       "      <td>02,06,12</td>\n",
       "    </tr>\n",
       "    <tr>\n",
       "      <th>2</th>\n",
       "      <td>AL</td>\n",
       "      <td>01,02,03,04,05,06,07,08,09,10,11,12</td>\n",
       "    </tr>\n",
       "    <tr>\n",
       "      <th>3</th>\n",
       "      <td>AO</td>\n",
       "      <td>删除</td>\n",
       "    </tr>\n",
       "    <tr>\n",
       "      <th>4</th>\n",
       "      <td>AP</td>\n",
       "      <td>01,05,10</td>\n",
       "    </tr>\n",
       "  </tbody>\n",
       "</table>\n",
       "</div>"
      ],
      "text/plain": [
       "  code                            main_date\n",
       "0   A2                             01,05,09\n",
       "1   AG                             02,06,12\n",
       "2   AL  01,02,03,04,05,06,07,08,09,10,11,12\n",
       "3   AO                                   删除\n",
       "4   AP                             01,05,10"
      ]
     },
     "execution_count": 11,
     "metadata": {},
     "output_type": "execute_result"
    }
   ],
   "source": [
    "refer_df.head()"
   ]
  },
  {
   "cell_type": "code",
   "execution_count": 12,
   "id": "29791ce8-0b82-4eb8-a4ca-a31d0baa0409",
   "metadata": {},
   "outputs": [],
   "source": [
    "a=refer_df.set_index('code')['main_date']"
   ]
  },
  {
   "cell_type": "code",
   "execution_count": 13,
   "id": "d3d0d9a5-c117-42bd-b969-090f5ce7ad20",
   "metadata": {},
   "outputs": [],
   "source": [
    "# 将 DataFrame 转为字典，以逗号分隔 main_date 列的值为多个值\n",
    "result_dict = a.apply(lambda x: x.split(',')).to_dict()"
   ]
  },
  {
   "cell_type": "code",
   "execution_count": 14,
   "id": "9c645fbe-69ea-4530-99ad-261e97386b83",
   "metadata": {},
   "outputs": [
    {
     "name": "stdout",
     "output_type": "stream",
     "text": [
      "Key: A2, Value: ['01', '05', '09']\n",
      "Key: AG, Value: ['02', '06', '12']\n",
      "Key: AL, Value: ['01', '02', '03', '04', '05', '06', '07', '08', '09', '10', '11', '12']\n",
      "Key: AO, Value: ['删除']\n",
      "Key: AP, Value: ['01', '05', '10']\n",
      "Key: AU, Value: ['02', '04', '06', '08', '10', '12']\n",
      "Key: BC, Value: ['01', '02', '03', '04', '05', '06', '07', '08', '09', '10', '11', '12']\n",
      "Key: BR, Value: ['删除']\n",
      "Key: BU, Value: ['01', '02', '03', '04', '05', '06', '07', '08', '09', '10', '11', '12']\n",
      "Key: C2, Value: ['01', '03', '05', '07', '09', '11']\n",
      "Key: CF, Value: ['01', '05', '09  ']\n",
      "Key: CJ, Value: ['01', '05', '09']\n",
      "Key: CS, Value: ['01', '03', '05', '07', '09', '11']\n",
      "Key: CU, Value: ['01', '02', '03', '04', '05', '06', '07', '08', '09', '10', '11', '12']\n",
      "Key: CY, Value: ['01', '05', '09']\n",
      "Key: EB, Value: ['01', '02', '03', '04', '05', '06', '07', '08', '09', '10', '11', '12']\n",
      "Key: EC, Value: ['删除']\n",
      "Key: EG, Value: ['01', '05', '09']\n",
      "Key: FG, Value: ['01', '05', '09']\n",
      "Key: FU, Value: ['01', '05', '09']\n",
      "Key: HC, Value: ['01', '05', '10']\n",
      "Key: I2, Value: ['01', '05', '09']\n",
      "Key: IC, Value: ['01', '02', '03', '04', '05', '06', '07', '08', '09', '10', '11', '12']\n",
      "Key: IF, Value: ['01', '02', '03', '04', '05', '06', '07', '08', '09', '10', '11', '12']\n",
      "Key: IH, Value: ['01', '02', '03', '04', '05', '06', '07', '08', '09', '10', '11', '12']\n",
      "Key: IM, Value: ['01', '02', '03', '04', '05', '06', '07', '08', '09', '10', '11', '12']\n",
      "Key: J2, Value: ['01', '05', '09']\n",
      "Key: JD, Value: ['01', '05', '09']\n",
      "Key: JM, Value: ['01', '05', '09']\n",
      "Key: L2, Value: ['01', '05', '09']\n",
      "Key: LC, Value: ['删除']\n",
      "Key: LH, Value: ['01', '03', '05', '07', '09', '11']\n",
      "Key: LU, Value: ['01', '02', '03', '04', '05', '06', '07', '08', '09', '10', '11', '12']\n",
      "Key: M2, Value: ['01', '05', '09']\n",
      "Key: MA, Value: ['01', '05', '09']\n",
      "Key: NI, Value: ['01', '02', '03', '04', '05', '06', '07', '08', '09', '10', '11', '12']\n",
      "Key: NR, Value: ['01', '02', '03', '04', '05', '06', '07', '08', '09', '10', '11', '12']\n",
      "Key: OI, Value: ['01', '05', '09']\n",
      "Key: P2, Value: ['01', '05', '09']\n",
      "Key: PB, Value: ['01', '02', '03', '04', '05', '06', '07', '08', '09', '10', '11', '12']\n",
      "Key: PF, Value: ['01', '02', '03', '04', '05', '06', '07', '08', '09', '10', '11', '12']\n",
      "Key: PG, Value: ['01', '02', '03', '04', '05', '06', '07', '08', '09', '10', '11', '12']\n",
      "Key: PK, Value: ['删除']\n",
      "Key: PP, Value: ['01', '05', '09']\n",
      "Key: RB, Value: ['01', '05', '10']\n",
      "Key: RM, Value: ['01', '05', '09']\n",
      "Key: RR, Value: ['删除']\n",
      "Key: RU, Value: ['01', '05', '09']\n",
      "Key: SA, Value: ['01', '05', '09']\n",
      "Key: SC, Value: ['01', '02', '03', '04', '05', '06', '07', '08', '09', '10', '11', '12']\n",
      "Key: SF, Value: ['01', '05', '09']\n",
      "Key: SI, Value: ['删除']\n",
      "Key: SM, Value: ['01', '05', '09']\n",
      "Key: SN, Value: ['01', '02', '03', '04', '05', '06', '07', '08', '09', '10', '11', '12']\n",
      "Key: SP, Value: ['01', '05', '09']\n",
      "Key: SR, Value: ['01', '05', '09']\n",
      "Key: SS, Value: ['01', '02', '03', '04', '05', '06', '07', '08', '09', '10', '11', '12']\n",
      "Key: T2, Value: ['03', '06', '09', '12']\n",
      "Key: TA, Value: ['01', '05', '09']\n",
      "Key: TF, Value: ['03', '06', '09', '12']\n",
      "Key: UR, Value: ['01', '05', '09']\n",
      "Key: V2, Value: ['01', '05', '09']\n",
      "Key: WR, Value: ['01', '05', '10']\n",
      "Key: Y2, Value: ['01', '05', '09']\n",
      "Key: ZN, Value: ['01', '02', '03', '04', '05', '06', '07', '08', '09', '10', '11', '12']\n"
     ]
    }
   ],
   "source": [
    "for key, value in result_dict.items():\n",
    "    print(f\"Key: {key}, Value: {value}\")"
   ]
  },
  {
   "cell_type": "markdown",
   "id": "f89dcde9-5f2b-42a0-b9a8-46cad859800e",
   "metadata": {},
   "source": [
    "## 比较"
   ]
  },
  {
   "cell_type": "code",
   "execution_count": null,
   "id": "0a019a18-0952-484d-9f74-ebe2b55879ac",
   "metadata": {},
   "outputs": [],
   "source": [
    "# 如果值存在于字典的键中，返回对应的值，否则返回 None\n",
    "value_to_find = 'A2'\n",
    "result = result_dict.get(value_to_find)"
   ]
  },
  {
   "cell_type": "code",
   "execution_count": 124,
   "id": "07625d23-38ce-4a77-901d-8734a7fd29bb",
   "metadata": {},
   "outputs": [
    {
     "name": "stdout",
     "output_type": "stream",
     "text": [
      "The value 'A2' exists in the dictionary keys, and its corresponding value is ['01', '05', '09'].\n"
     ]
    }
   ],
   "source": [
    "if result is not None:\n",
    "    print(f\"The value {value_to_find} exists in the dictionary keys, and its corresponding value is {result}.\")\n",
    "else:\n",
    "    print(f\"The value {value_to_find} does not exist in the dictionary keys.\")"
   ]
  },
  {
   "cell_type": "code",
   "execution_count": 15,
   "id": "48e0e131-b67c-469d-9330-009a1dbcb9db",
   "metadata": {},
   "outputs": [],
   "source": [
    "k=df"
   ]
  },
  {
   "cell_type": "code",
   "execution_count": 16,
   "id": "1d991a7a-c2c5-47de-87da-64ea5ef10fd7",
   "metadata": {},
   "outputs": [
    {
     "data": {
      "text/plain": [
       "445226"
      ]
     },
     "execution_count": 16,
     "metadata": {},
     "output_type": "execute_result"
    }
   ],
   "source": [
    "len(k)"
   ]
  },
  {
   "cell_type": "code",
   "execution_count": null,
   "id": "30bf2cc8-2a37-438d-a0b8-9e7ddd0ace20",
   "metadata": {},
   "outputs": [
    {
     "name": "stdout",
     "output_type": "stream",
     "text": [
      "The value 01 exists in the dictionary under the key A2.\n"
     ]
    }
   ],
   "source": [
    "\n",
    "# 要查找的值\n",
    "value_to_find = k.loc[0,'NewColumn_mon']\n",
    "key_to_search = k.loc[0,'NewColumn']\n",
    "\n",
    "# 检查值是否存在于特定键对应的值中\n",
    "if value_to_find in result_dict.get(key_to_search, []):\n",
    "    #k.loc[i,'decide'] = 1\n",
    "    print(f\"The value {value_to_find} exists in the dictionary under the key {key_to_search}.\")\n",
    "    \n",
    "else:\n",
    "    #k.loc[i,'decide'] = 0\n",
    "    print(f\"The value {value_to_find} does not exist in the dictionary under the key {key_to_search}.\")"
   ]
  },
  {
   "cell_type": "code",
   "execution_count": 18,
   "id": "0298f40c-e7ba-40b9-a408-4b195ef53c91",
   "metadata": {},
   "outputs": [],
   "source": [
    "for i in range(len(k)):\n",
    "    # 要查找的值\n",
    "    value_to_find = k.loc[i,'NewColumn_mon']\n",
    "    key_to_search = k.loc[i,'NewColumn']\n",
    "    \n",
    "    # 检查值是否存在于特定键对应的值中\n",
    "    if value_to_find in result_dict.get(key_to_search, []):\n",
    "        k.loc[i,'decide'] = 1\n",
    "        #print(f\"The value {value_to_find} exists in the dictionary under the key {key_to_search}.\")\n",
    "        \n",
    "    else:\n",
    "        k.loc[i,'decide'] = 0\n",
    "        #print(f\"The value {value_to_find} does not exist in the dictionary under the key {key_to_search}.\")"
   ]
  },
  {
   "cell_type": "code",
   "execution_count": 25,
   "id": "80257c43-e74e-4560-bf62-c1ee5ee7db9f",
   "metadata": {},
   "outputs": [],
   "source": [
    "#k[k['NewColumn']=='A2']"
   ]
  },
  {
   "cell_type": "code",
   "execution_count": 20,
   "id": "6d419c49-a84a-4ea0-90ad-1c4b01ad1050",
   "metadata": {},
   "outputs": [],
   "source": [
    "# 要检查的列\n",
    "column_to_check = 'decide'\n",
    "\n",
    "# 使用布尔索引选择需要保留的行\n",
    "k_end = k[k[column_to_check] != 0]\n",
    "\n",
    "# 重置索引\n",
    "k_end = k_end.reset_index(drop=True)"
   ]
  },
  {
   "cell_type": "code",
   "execution_count": 21,
   "id": "1e7fdd81-15c7-43f3-87a6-7b4deda01cc1",
   "metadata": {},
   "outputs": [
    {
     "data": {
      "text/plain": [
       "251971"
      ]
     },
     "execution_count": 21,
     "metadata": {},
     "output_type": "execute_result"
    }
   ],
   "source": [
    "len(k_end)"
   ]
  },
  {
   "cell_type": "code",
   "execution_count": 24,
   "id": "7a06eda5-fe6f-4628-96bb-7446227762b2",
   "metadata": {},
   "outputs": [],
   "source": [
    "# 导出为 CSV 文件\n",
    "k_end.to_csv('output_file.csv', index=False)"
   ]
  }
 ],
 "metadata": {
  "kernelspec": {
   "display_name": "Python 3 (ipykernel)",
   "language": "python",
   "name": "python3"
  },
  "language_info": {
   "codemirror_mode": {
    "name": "ipython",
    "version": 3
   },
   "file_extension": ".py",
   "mimetype": "text/x-python",
   "name": "python",
   "nbconvert_exporter": "python",
   "pygments_lexer": "ipython3",
   "version": "3.8.10"
  }
 },
 "nbformat": 4,
 "nbformat_minor": 5
}
